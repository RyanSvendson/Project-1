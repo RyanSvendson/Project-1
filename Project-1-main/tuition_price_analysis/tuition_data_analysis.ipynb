{
 "cells": [
  {
   "cell_type": "code",
   "execution_count": 39,
   "id": "cfc968f7-43b4-45ba-9ab0-8b8e3fd0b261",
   "metadata": {},
   "outputs": [],
   "source": [
    "#import dependencies\n",
    "import pandas as pd\n",
    "from pathlib import Path\n",
    "import hvplot.pandas\n",
    "import numpy as np"
   ]
  },
  {
   "cell_type": "code",
   "execution_count": 40,
   "id": "8dd914b1-57e8-43bd-b5e7-d2c480663879",
   "metadata": {},
   "outputs": [],
   "source": [
    "#read in CSV files\n",
    "public_df = pd.read_csv(\n",
    "    Path('./Resources/public_institutions.csv'),\n",
    "    index_col='Year'\n",
    ")\n",
    "\n",
    "all_institutions_df = pd.read_csv(\n",
    "    Path('./Resources/all_institutions.csv'),\n",
    "    index_col='Year'\n",
    ")\n",
    "\n",
    "all_private_df = pd.read_csv(\n",
    "    Path('./Resources/all_private_institutions.csv'),\n",
    "    index_col='Year'\n",
    ")"
   ]
  },
  {
   "cell_type": "code",
   "execution_count": 41,
   "id": "f701c3c7-da2e-4659-bd48-fc22a87ffc1b",
   "metadata": {},
   "outputs": [
    {
     "data": {
      "text/plain": [
       "All Institutions    int64\n",
       "4-year              int64\n",
       "2-year              int64\n",
       "dtype: object"
      ]
     },
     "metadata": {},
     "output_type": "display_data"
    },
    {
     "data": {
      "text/plain": [
       "All Institutions    int64\n",
       "4-year              int64\n",
       "2-year              int64\n",
       "dtype: object"
      ]
     },
     "metadata": {},
     "output_type": "display_data"
    },
    {
     "data": {
      "text/plain": [
       "All Institutions    int64\n",
       "4-year              int64\n",
       "2-year              int64\n",
       "dtype: object"
      ]
     },
     "metadata": {},
     "output_type": "display_data"
    }
   ],
   "source": [
    "#confirm datatypes for the dataframes\n",
    "display(public_df.dtypes)\n",
    "display(all_institutions_df.dtypes)\n",
    "display(all_private_df.dtypes)"
   ]
  },
  {
   "cell_type": "code",
   "execution_count": 54,
   "id": "69cf22a4-23ad-4e61-b3fe-e923fb27800f",
   "metadata": {},
   "outputs": [
    {
     "data": {
      "text/html": [
       "<div>\n",
       "<style scoped>\n",
       "    .dataframe tbody tr th:only-of-type {\n",
       "        vertical-align: middle;\n",
       "    }\n",
       "\n",
       "    .dataframe tbody tr th {\n",
       "        vertical-align: top;\n",
       "    }\n",
       "\n",
       "    .dataframe thead th {\n",
       "        text-align: right;\n",
       "    }\n",
       "</style>\n",
       "<table border=\"1\" class=\"dataframe\">\n",
       "  <thead>\n",
       "    <tr style=\"text-align: right;\">\n",
       "      <th></th>\n",
       "      <th>All Institutions</th>\n",
       "      <th>4-year</th>\n",
       "      <th>2-year</th>\n",
       "    </tr>\n",
       "    <tr>\n",
       "      <th>Year</th>\n",
       "      <th></th>\n",
       "      <th></th>\n",
       "      <th></th>\n",
       "    </tr>\n",
       "  </thead>\n",
       "  <tbody>\n",
       "    <tr>\n",
       "      <th>1963-64</th>\n",
       "      <td>10648</td>\n",
       "      <td>10973</td>\n",
       "      <td>6616</td>\n",
       "    </tr>\n",
       "    <tr>\n",
       "      <th>1968-69</th>\n",
       "      <td>10762</td>\n",
       "      <td>11401</td>\n",
       "      <td>7769</td>\n",
       "    </tr>\n",
       "    <tr>\n",
       "      <th>1969-70</th>\n",
       "      <td>10868</td>\n",
       "      <td>11665</td>\n",
       "      <td>7589</td>\n",
       "    </tr>\n",
       "    <tr>\n",
       "      <th>1970-71</th>\n",
       "      <td>10948</td>\n",
       "      <td>11820</td>\n",
       "      <td>7422</td>\n",
       "    </tr>\n",
       "    <tr>\n",
       "      <th>1971-72</th>\n",
       "      <td>11066</td>\n",
       "      <td>12007</td>\n",
       "      <td>7493</td>\n",
       "    </tr>\n",
       "  </tbody>\n",
       "</table>\n",
       "</div>"
      ],
      "text/plain": [
       "          All Institutions  4-year  2-year\n",
       "Year                                      \n",
       "1963-64              10648   10973    6616\n",
       "1968-69              10762   11401    7769\n",
       "1969-70              10868   11665    7589\n",
       "1970-71              10948   11820    7422\n",
       "1971-72              11066   12007    7493"
      ]
     },
     "execution_count": 54,
     "metadata": {},
     "output_type": "execute_result"
    }
   ],
   "source": [
    "#correct the year 1985-86 for all dataframes\n",
    "index = public_df.index              \n",
    "index_list = index.tolist()\n",
    "index_list[18] = '1985-86'\n",
    "public_df.index=index_list\n",
    "public_df.index.name='Year'\n",
    "\n",
    "all_private_df.index=index_list\n",
    "all_private_df.index.name='Year'\n",
    "\n",
    "all_institutions_df.index=index_list\n",
    "all_institutions_df.index.name='Year'\n",
    "all_institutions_df.head()"
   ]
  },
  {
   "cell_type": "code",
   "execution_count": 61,
   "id": "6c9b2c01-11f7-4dc8-8a69-97cc533fd8ac",
   "metadata": {},
   "outputs": [
    {
     "data": {
      "text/html": [
       "<div>\n",
       "<style scoped>\n",
       "    .dataframe tbody tr th:only-of-type {\n",
       "        vertical-align: middle;\n",
       "    }\n",
       "\n",
       "    .dataframe tbody tr th {\n",
       "        vertical-align: top;\n",
       "    }\n",
       "\n",
       "    .dataframe thead th {\n",
       "        text-align: right;\n",
       "    }\n",
       "</style>\n",
       "<table border=\"1\" class=\"dataframe\">\n",
       "  <thead>\n",
       "    <tr style=\"text-align: right;\">\n",
       "      <th></th>\n",
       "      <th>4-year</th>\n",
       "    </tr>\n",
       "    <tr>\n",
       "      <th>Year</th>\n",
       "      <th></th>\n",
       "    </tr>\n",
       "  </thead>\n",
       "  <tbody>\n",
       "    <tr>\n",
       "      <th>1963-64</th>\n",
       "      <td>7923</td>\n",
       "    </tr>\n",
       "    <tr>\n",
       "      <th>1968-69</th>\n",
       "      <td>8433</td>\n",
       "    </tr>\n",
       "    <tr>\n",
       "      <th>1969-70</th>\n",
       "      <td>8624</td>\n",
       "    </tr>\n",
       "    <tr>\n",
       "      <th>1970-71</th>\n",
       "      <td>8783</td>\n",
       "    </tr>\n",
       "    <tr>\n",
       "      <th>1971-72</th>\n",
       "      <td>8984</td>\n",
       "    </tr>\n",
       "  </tbody>\n",
       "</table>\n",
       "</div>"
      ],
      "text/plain": [
       "          4-year\n",
       "Year            \n",
       "1963-64     7923\n",
       "1968-69     8433\n",
       "1969-70     8624\n",
       "1970-71     8783\n",
       "1971-72     8984"
      ]
     },
     "execution_count": 61,
     "metadata": {},
     "output_type": "execute_result"
    }
   ],
   "source": [
    "#drop the 'all institutions' and '2-year' columns to focus only on 4-year expenses.\n",
    "all_institutions_4_year = all_institutions_df.drop(columns=['All Institutions', '2-year'])\n",
    "\n",
    "private_4_year = all_private_df.drop(columns=['All Institutions', '2-year'])\n",
    "\n",
    "public_4_year = public_df.drop(columns=['All Institutions', '2-year'])\n",
    "public_4_year.head()"
   ]
  },
  {
   "cell_type": "code",
   "execution_count": 69,
   "id": "5ba05465-c8db-4a31-a5ba-9f58b46b4917",
   "metadata": {},
   "outputs": [
    {
     "data": {
      "text/html": [
       "<div>\n",
       "<style scoped>\n",
       "    .dataframe tbody tr th:only-of-type {\n",
       "        vertical-align: middle;\n",
       "    }\n",
       "\n",
       "    .dataframe tbody tr th {\n",
       "        vertical-align: top;\n",
       "    }\n",
       "\n",
       "    .dataframe thead th {\n",
       "        text-align: right;\n",
       "    }\n",
       "</style>\n",
       "<table border=\"1\" class=\"dataframe\">\n",
       "  <thead>\n",
       "    <tr style=\"text-align: right;\">\n",
       "      <th></th>\n",
       "      <th>All Institutions</th>\n",
       "      <th>Private</th>\n",
       "      <th>Public</th>\n",
       "    </tr>\n",
       "    <tr>\n",
       "      <th>Year</th>\n",
       "      <th></th>\n",
       "      <th></th>\n",
       "      <th></th>\n",
       "    </tr>\n",
       "  </thead>\n",
       "  <tbody>\n",
       "    <tr>\n",
       "      <th>1963-64</th>\n",
       "      <td>10973</td>\n",
       "      <td>15441</td>\n",
       "      <td>7923</td>\n",
       "    </tr>\n",
       "    <tr>\n",
       "      <th>1968-69</th>\n",
       "      <td>11401</td>\n",
       "      <td>17383</td>\n",
       "      <td>8433</td>\n",
       "    </tr>\n",
       "    <tr>\n",
       "      <th>1969-70</th>\n",
       "      <td>11665</td>\n",
       "      <td>17825</td>\n",
       "      <td>8624</td>\n",
       "    </tr>\n",
       "    <tr>\n",
       "      <th>1970-71</th>\n",
       "      <td>11820</td>\n",
       "      <td>18247</td>\n",
       "      <td>8783</td>\n",
       "    </tr>\n",
       "    <tr>\n",
       "      <th>1971-72</th>\n",
       "      <td>12007</td>\n",
       "      <td>18664</td>\n",
       "      <td>8984</td>\n",
       "    </tr>\n",
       "  </tbody>\n",
       "</table>\n",
       "</div>"
      ],
      "text/plain": [
       "          All Institutions  Private  Public\n",
       "Year                                       \n",
       "1963-64              10973    15441    7923\n",
       "1968-69              11401    17383    8433\n",
       "1969-70              11665    17825    8624\n",
       "1970-71              11820    18247    8783\n",
       "1971-72              12007    18664    8984"
      ]
     },
     "execution_count": 69,
     "metadata": {},
     "output_type": "execute_result"
    }
   ],
   "source": [
    "#concatenate the dataframes\n",
    "all_tuition_df = pd.concat(\n",
    "    [all_institutions_4_year, private_4_year, public_4_year],\n",
    "    axis='columns',\n",
    "    join='inner')\n",
    "\n",
    "#rename columns\n",
    "columns = ['All Institutions', 'Private', 'Public']\n",
    "all_tuition_df.columns=columns\n",
    "all_tuition_df.head()"
   ]
  },
  {
   "cell_type": "code",
   "execution_count": 72,
   "id": "63bc55ba-8bef-4528-b0c3-1058622fe7b7",
   "metadata": {},
   "outputs": [
    {
     "data": {
      "text/html": [
       "<div>\n",
       "<style scoped>\n",
       "    .dataframe tbody tr th:only-of-type {\n",
       "        vertical-align: middle;\n",
       "    }\n",
       "\n",
       "    .dataframe tbody tr th {\n",
       "        vertical-align: top;\n",
       "    }\n",
       "\n",
       "    .dataframe thead th {\n",
       "        text-align: right;\n",
       "    }\n",
       "</style>\n",
       "<table border=\"1\" class=\"dataframe\">\n",
       "  <thead>\n",
       "    <tr style=\"text-align: right;\">\n",
       "      <th></th>\n",
       "      <th>All Institutions</th>\n",
       "      <th>Private</th>\n",
       "      <th>Public</th>\n",
       "    </tr>\n",
       "    <tr>\n",
       "      <th>Year</th>\n",
       "      <th></th>\n",
       "      <th></th>\n",
       "      <th></th>\n",
       "    </tr>\n",
       "  </thead>\n",
       "  <tbody>\n",
       "    <tr>\n",
       "      <th>1968-69</th>\n",
       "      <td>0.039005</td>\n",
       "      <td>0.125769</td>\n",
       "      <td>0.064370</td>\n",
       "    </tr>\n",
       "    <tr>\n",
       "      <th>1969-70</th>\n",
       "      <td>0.023156</td>\n",
       "      <td>0.025427</td>\n",
       "      <td>0.022649</td>\n",
       "    </tr>\n",
       "    <tr>\n",
       "      <th>1970-71</th>\n",
       "      <td>0.013288</td>\n",
       "      <td>0.023675</td>\n",
       "      <td>0.018437</td>\n",
       "    </tr>\n",
       "    <tr>\n",
       "      <th>1971-72</th>\n",
       "      <td>0.015821</td>\n",
       "      <td>0.022853</td>\n",
       "      <td>0.022885</td>\n",
       "    </tr>\n",
       "    <tr>\n",
       "      <th>1972-73</th>\n",
       "      <td>0.039644</td>\n",
       "      <td>0.018163</td>\n",
       "      <td>0.062890</td>\n",
       "    </tr>\n",
       "  </tbody>\n",
       "</table>\n",
       "</div>"
      ],
      "text/plain": [
       "          All Institutions   Private    Public\n",
       "Year                                          \n",
       "1968-69           0.039005  0.125769  0.064370\n",
       "1969-70           0.023156  0.025427  0.022649\n",
       "1970-71           0.013288  0.023675  0.018437\n",
       "1971-72           0.015821  0.022853  0.022885\n",
       "1972-73           0.039644  0.018163  0.062890"
      ]
     },
     "execution_count": 72,
     "metadata": {},
     "output_type": "execute_result"
    }
   ],
   "source": [
    "#create dataframes for the percentage changes for each institution type\n",
    "tuition_pct_change = all_tuition_df.pct_change().dropna()\n",
    "tuition_pct_change.head()"
   ]
  },
  {
   "cell_type": "code",
   "execution_count": 79,
   "id": "7cdd67b2-5028-4b8d-a219-a24569e3c2dd",
   "metadata": {},
   "outputs": [
    {
     "data": {},
     "metadata": {},
     "output_type": "display_data"
    },
    {
     "data": {
      "application/vnd.holoviews_exec.v0+json": "",
      "text/html": [
       "<div id='1923'>\n",
       "\n",
       "\n",
       "\n",
       "\n",
       "\n",
       "  <div class=\"bk-root\" id=\"656bf6d2-5e0b-487b-aa07-1a7e2fa1f778\" data-root-id=\"1923\"></div>\n",
       "</div>\n",
       "<script type=\"application/javascript\">(function(root) {\n",
       "  function embed_document(root) {\n",
       "    var docs_json = {\"43ba6203-1564-47ef-93b6-63a098c49e09\":{\"defs\":[{\"extends\":null,\"module\":null,\"name\":\"ReactiveHTML1\",\"overrides\":[],\"properties\":[]},{\"extends\":null,\"module\":null,\"name\":\"FlexBox1\",\"overrides\":[],\"properties\":[{\"default\":\"flex-start\",\"kind\":null,\"name\":\"align_content\"},{\"default\":\"flex-start\",\"kind\":null,\"name\":\"align_items\"},{\"default\":\"row\",\"kind\":null,\"name\":\"flex_direction\"},{\"default\":\"wrap\",\"kind\":null,\"name\":\"flex_wrap\"},{\"default\":\"flex-start\",\"kind\":null,\"name\":\"justify_content\"}]},{\"extends\":null,\"module\":null,\"name\":\"GridStack1\",\"overrides\":[],\"properties\":[{\"default\":\"warn\",\"kind\":null,\"name\":\"mode\"},{\"default\":null,\"kind\":null,\"name\":\"ncols\"},{\"default\":null,\"kind\":null,\"name\":\"nrows\"},{\"default\":true,\"kind\":null,\"name\":\"allow_resize\"},{\"default\":true,\"kind\":null,\"name\":\"allow_drag\"},{\"default\":[],\"kind\":null,\"name\":\"state\"}]},{\"extends\":null,\"module\":null,\"name\":\"click1\",\"overrides\":[],\"properties\":[{\"default\":\"\",\"kind\":null,\"name\":\"terminal_output\"},{\"default\":\"\",\"kind\":null,\"name\":\"debug_name\"},{\"default\":0,\"kind\":null,\"name\":\"clears\"}]},{\"extends\":null,\"module\":null,\"name\":\"TemplateActions1\",\"overrides\":[],\"properties\":[{\"default\":0,\"kind\":null,\"name\":\"open_modal\"},{\"default\":0,\"kind\":null,\"name\":\"close_modal\"}]},{\"extends\":null,\"module\":null,\"name\":\"MaterialTemplateActions1\",\"overrides\":[],\"properties\":[{\"default\":0,\"kind\":null,\"name\":\"open_modal\"},{\"default\":0,\"kind\":null,\"name\":\"close_modal\"}]}],\"roots\":{\"references\":[{\"attributes\":{\"line_color\":\"#30a2da\",\"line_width\":2,\"x\":{\"field\":\"Year\"},\"y\":{\"field\":\"value\"}},\"id\":\"1968\",\"type\":\"Line\"},{\"attributes\":{\"end\":50905.5,\"reset_end\":50905.5,\"reset_start\":3823.5,\"start\":3823.5,\"tags\":[[[\"value\",\"value\",null]]]},\"id\":\"1926\",\"type\":\"Range1d\"},{\"attributes\":{},\"id\":\"1961\",\"type\":\"AllLabels\"},{\"attributes\":{\"source\":{\"id\":\"1986\"}},\"id\":\"1993\",\"type\":\"CDSView\"},{\"attributes\":{\"data\":{\"Variable\":[\"Public\",\"Public\",\"Public\",\"Public\",\"Public\",\"Public\",\"Public\",\"Public\",\"Public\",\"Public\",\"Public\",\"Public\",\"Public\",\"Public\",\"Public\",\"Public\",\"Public\",\"Public\",\"Public\",\"Public\",\"Public\",\"Public\",\"Public\",\"Public\",\"Public\",\"Public\",\"Public\",\"Public\",\"Public\",\"Public\",\"Public\",\"Public\",\"Public\",\"Public\",\"Public\",\"Public\",\"Public\",\"Public\",\"Public\",\"Public\",\"Public\",\"Public\",\"Public\",\"Public\",\"Public\",\"Public\",\"Public\",\"Public\",\"Public\",\"Public\",\"Public\",\"Public\",\"Public\",\"Public\"],\"Year\":[\"1963-64 \",\"1968-69 \",\"1969-70 \",\"1970-71 \",\"1971-72 \",\"1972-73 \",\"1973-74 \",\"1974-75 \",\"1975-76 \",\"1976-77 \",\"1977-78 \",\"1978-79 \",\"1979-80 \",\"1980-81 \",\"1981-82 \",\"1982-83 \",\"1983-84 \",\"1984-85 \",\"1985-86\",\"1986-87 \",\"1987-88 \",\"1988-89 \",\"1989-90 \",\"1990-91 \",\"1991-92 \",\"1992-93 \",\"1993-94 \",\"1994-95 \",\"1995-96 \",\"1996-97 \",\"1997-98 \",\"1998-99 \",\"1999-2000 \",\"2000-01 \",\"2001-02 \",\"2002-03 \",\"2003-04 \",\"2004-05 \",\"2005-06 \",\"2006-07 \",\"2007-08 \",\"2008-09 \",\"2009-10 \",\"2010-11 \",\"2011-12 \",\"2012-13 \",\"2013-14 \",\"2014-15 \",\"2015-16 \",\"2016-17 \",\"2017-18 \",\"2018-19 \",\"2019-20\",\"2020-21\"],\"value\":[7923,8433,8624,8783,8984,9549,9008,8366,8444,8676,8562,8239,7889,7747,8028,8569,8876,9160,9331,9789,10002,10158,10311,10302,10840,11115,11456,11670,11946,12146,12484,12837,12861,13005,13581,14143,15094,15685,16012,16499,16693,17423,18256,18948,19412,19876,20271,20716,21209,21134,21263,21401,21520,21337]},\"selected\":{\"id\":\"2009\"},\"selection_policy\":{\"id\":\"2027\"}},\"id\":\"2008\",\"type\":\"ColumnDataSource\"},{\"attributes\":{},\"id\":\"1935\",\"type\":\"CategoricalScale\"},{\"attributes\":{\"line_color\":\"#30a2da\",\"line_width\":2,\"x\":{\"field\":\"Year\"},\"y\":{\"field\":\"value\"}},\"id\":\"1985\",\"type\":\"Line\"},{\"attributes\":{\"line_color\":\"#e5ae38\",\"line_width\":2,\"x\":{\"field\":\"Year\"},\"y\":{\"field\":\"value\"}},\"id\":\"2011\",\"type\":\"Line\"},{\"attributes\":{\"line_color\":\"#fc4f30\",\"line_width\":2,\"x\":{\"field\":\"Year\"},\"y\":{\"field\":\"value\"}},\"id\":\"1989\",\"type\":\"Line\"},{\"attributes\":{\"margin\":[5,5,5,5],\"name\":\"HSpacer03727\",\"sizing_mode\":\"stretch_width\"},\"id\":\"1924\",\"type\":\"Spacer\"},{\"attributes\":{\"coordinates\":null,\"data_source\":{\"id\":\"1986\"},\"glyph\":{\"id\":\"1989\"},\"group\":null,\"hover_glyph\":null,\"muted_glyph\":{\"id\":\"1991\"},\"nonselection_glyph\":{\"id\":\"1990\"},\"selection_glyph\":{\"id\":\"2007\"},\"view\":{\"id\":\"1993\"}},\"id\":\"1992\",\"type\":\"GlyphRenderer\"},{\"attributes\":{\"margin\":[5,5,5,5],\"name\":\"HSpacer03728\",\"sizing_mode\":\"stretch_width\"},\"id\":\"2158\",\"type\":\"Spacer\"},{\"attributes\":{},\"id\":\"1948\",\"type\":\"WheelZoomTool\"},{\"attributes\":{\"data\":{\"Variable\":[\"Private\",\"Private\",\"Private\",\"Private\",\"Private\",\"Private\",\"Private\",\"Private\",\"Private\",\"Private\",\"Private\",\"Private\",\"Private\",\"Private\",\"Private\",\"Private\",\"Private\",\"Private\",\"Private\",\"Private\",\"Private\",\"Private\",\"Private\",\"Private\",\"Private\",\"Private\",\"Private\",\"Private\",\"Private\",\"Private\",\"Private\",\"Private\",\"Private\",\"Private\",\"Private\",\"Private\",\"Private\",\"Private\",\"Private\",\"Private\",\"Private\",\"Private\",\"Private\",\"Private\",\"Private\",\"Private\",\"Private\",\"Private\",\"Private\",\"Private\",\"Private\",\"Private\",\"Private\",\"Private\"],\"Year\":[\"1963-64 \",\"1968-69 \",\"1969-70 \",\"1970-71 \",\"1971-72 \",\"1972-73 \",\"1973-74 \",\"1974-75 \",\"1975-76 \",\"1976-77 \",\"1977-78 \",\"1978-79 \",\"1979-80 \",\"1980-81 \",\"1981-82 \",\"1982-83 \",\"1983-84 \",\"1984-85 \",\"1985-86\",\"1986-87 \",\"1987-88 \",\"1988-89 \",\"1989-90 \",\"1990-91 \",\"1991-92 \",\"1992-93 \",\"1993-94 \",\"1994-95 \",\"1995-96 \",\"1996-97 \",\"1997-98 \",\"1998-99 \",\"1999-2000 \",\"2000-01 \",\"2001-02 \",\"2002-03 \",\"2003-04 \",\"2004-05 \",\"2005-06 \",\"2006-07 \",\"2007-08 \",\"2008-09 \",\"2009-10 \",\"2010-11 \",\"2011-12 \",\"2012-13 \",\"2013-14 \",\"2014-15 \",\"2015-16 \",\"2016-17 \",\"2017-18 \",\"2018-19 \",\"2019-20\",\"2020-21\"],\"value\":[15441,17383,17825,18247,18664,19003,18184,17296,17408,17831,17815,17708,16991,16992,17700,19106,20061,21025,22316,23751,24214,24915,25458,26011,27147,27713,28622,29046,29997,30540,31026,31872,32234,32848,33812,34373,35451,36049,36145,37279,37571,38288,38667,38704,38943,39892,40990,42237,43661,44967,45743,46414,46982,46313]},\"selected\":{\"id\":\"1987\"},\"selection_policy\":{\"id\":\"2003\"}},\"id\":\"1986\",\"type\":\"ColumnDataSource\"},{\"attributes\":{\"source\":{\"id\":\"2008\"}},\"id\":\"2015\",\"type\":\"CDSView\"},{\"attributes\":{\"axis\":{\"id\":\"1942\"},\"coordinates\":null,\"dimension\":1,\"grid_line_color\":null,\"group\":null,\"ticker\":null},\"id\":\"1945\",\"type\":\"Grid\"},{\"attributes\":{},\"id\":\"1980\",\"type\":\"UnionRenderers\"},{\"attributes\":{\"callback\":null,\"renderers\":[{\"id\":\"1971\"},{\"id\":\"1992\"},{\"id\":\"2014\"}],\"tags\":[\"hv_created\"],\"tooltips\":[[\"Variable\",\"@{Variable}\"],[\"Year\",\"@{Year}\"],[\"value\",\"@{value}\"]]},\"id\":\"1927\",\"type\":\"HoverTool\"},{\"attributes\":{},\"id\":\"1963\",\"type\":\"BasicTickFormatter\"},{\"attributes\":{\"line_alpha\":0.1,\"line_color\":\"#fc4f30\",\"line_width\":2,\"x\":{\"field\":\"Year\"},\"y\":{\"field\":\"value\"}},\"id\":\"1990\",\"type\":\"Line\"},{\"attributes\":{},\"id\":\"1947\",\"type\":\"PanTool\"},{\"attributes\":{\"line_color\":\"#e5ae38\",\"line_width\":2,\"x\":{\"field\":\"Year\"},\"y\":{\"field\":\"value\"}},\"id\":\"2031\",\"type\":\"Line\"},{\"attributes\":{\"axis_label\":\"Total Tuition/Fees/Room and Board\",\"coordinates\":null,\"formatter\":{\"id\":\"1963\"},\"group\":null,\"major_label_policy\":{\"id\":\"1964\"},\"ticker\":{\"id\":\"1943\"}},\"id\":\"1942\",\"type\":\"LinearAxis\"},{\"attributes\":{},\"id\":\"1966\",\"type\":\"Selection\"},{\"attributes\":{},\"id\":\"2003\",\"type\":\"UnionRenderers\"},{\"attributes\":{\"children\":[{\"id\":\"1924\"},{\"id\":\"1930\"},{\"id\":\"2158\"}],\"margin\":[0,0,0,0],\"name\":\"Row03723\",\"tags\":[\"embedded\"]},\"id\":\"1923\",\"type\":\"Row\"},{\"attributes\":{\"line_alpha\":0.2,\"line_color\":\"#e5ae38\",\"line_width\":2,\"x\":{\"field\":\"Year\"},\"y\":{\"field\":\"value\"}},\"id\":\"2013\",\"type\":\"Line\"},{\"attributes\":{\"coordinates\":null,\"data_source\":{\"id\":\"2008\"},\"glyph\":{\"id\":\"2011\"},\"group\":null,\"hover_glyph\":null,\"muted_glyph\":{\"id\":\"2013\"},\"nonselection_glyph\":{\"id\":\"2012\"},\"selection_glyph\":{\"id\":\"2031\"},\"view\":{\"id\":\"2015\"}},\"id\":\"2014\",\"type\":\"GlyphRenderer\"},{\"attributes\":{},\"id\":\"1940\",\"type\":\"CategoricalTicker\"},{\"attributes\":{},\"id\":\"1943\",\"type\":\"BasicTicker\"},{\"attributes\":{},\"id\":\"1960\",\"type\":\"CategoricalTickFormatter\"},{\"attributes\":{},\"id\":\"2009\",\"type\":\"Selection\"},{\"attributes\":{},\"id\":\"1937\",\"type\":\"LinearScale\"},{\"attributes\":{\"below\":[{\"id\":\"1939\"}],\"center\":[{\"id\":\"1941\"},{\"id\":\"1945\"}],\"height\":300,\"left\":[{\"id\":\"1942\"}],\"margin\":[5,5,5,5],\"min_border_bottom\":10,\"min_border_left\":10,\"min_border_right\":10,\"min_border_top\":10,\"renderers\":[{\"id\":\"1971\"},{\"id\":\"1992\"},{\"id\":\"2014\"}],\"right\":[{\"id\":\"1983\"}],\"sizing_mode\":\"fixed\",\"title\":{\"id\":\"1931\"},\"toolbar\":{\"id\":\"1952\"},\"width\":700,\"x_range\":{\"id\":\"1925\"},\"x_scale\":{\"id\":\"1935\"},\"y_range\":{\"id\":\"1926\"},\"y_scale\":{\"id\":\"1937\"}},\"id\":\"1930\",\"subtype\":\"Figure\",\"type\":\"Plot\"},{\"attributes\":{\"line_color\":\"#fc4f30\",\"line_width\":2,\"x\":{\"field\":\"Year\"},\"y\":{\"field\":\"value\"}},\"id\":\"2007\",\"type\":\"Line\"},{\"attributes\":{\"line_alpha\":0.2,\"line_color\":\"#fc4f30\",\"line_width\":2,\"x\":{\"field\":\"Year\"},\"y\":{\"field\":\"value\"}},\"id\":\"1991\",\"type\":\"Line\"},{\"attributes\":{\"label\":{\"value\":\"Private\"},\"renderers\":[{\"id\":\"1992\"}]},\"id\":\"2006\",\"type\":\"LegendItem\"},{\"attributes\":{\"line_alpha\":0.1,\"line_color\":\"#30a2da\",\"line_width\":2,\"x\":{\"field\":\"Year\"},\"y\":{\"field\":\"value\"}},\"id\":\"1969\",\"type\":\"Line\"},{\"attributes\":{},\"id\":\"1987\",\"type\":\"Selection\"},{\"attributes\":{\"data\":{\"Variable\":[\"All Institutions\",\"All Institutions\",\"All Institutions\",\"All Institutions\",\"All Institutions\",\"All Institutions\",\"All Institutions\",\"All Institutions\",\"All Institutions\",\"All Institutions\",\"All Institutions\",\"All Institutions\",\"All Institutions\",\"All Institutions\",\"All Institutions\",\"All Institutions\",\"All Institutions\",\"All Institutions\",\"All Institutions\",\"All Institutions\",\"All Institutions\",\"All Institutions\",\"All Institutions\",\"All Institutions\",\"All Institutions\",\"All Institutions\",\"All Institutions\",\"All Institutions\",\"All Institutions\",\"All Institutions\",\"All Institutions\",\"All Institutions\",\"All Institutions\",\"All Institutions\",\"All Institutions\",\"All Institutions\",\"All Institutions\",\"All Institutions\",\"All Institutions\",\"All Institutions\",\"All Institutions\",\"All Institutions\",\"All Institutions\",\"All Institutions\",\"All Institutions\",\"All Institutions\",\"All Institutions\",\"All Institutions\",\"All Institutions\",\"All Institutions\",\"All Institutions\",\"All Institutions\",\"All Institutions\",\"All Institutions\"],\"Year\":[\"1963-64 \",\"1968-69 \",\"1969-70 \",\"1970-71 \",\"1971-72 \",\"1972-73 \",\"1973-74 \",\"1974-75 \",\"1975-76 \",\"1976-77 \",\"1977-78 \",\"1978-79 \",\"1979-80 \",\"1980-81 \",\"1981-82 \",\"1982-83 \",\"1983-84 \",\"1984-85 \",\"1985-86\",\"1986-87 \",\"1987-88 \",\"1988-89 \",\"1989-90 \",\"1990-91 \",\"1991-92 \",\"1992-93 \",\"1993-94 \",\"1994-95 \",\"1995-96 \",\"1996-97 \",\"1997-98 \",\"1998-99 \",\"1999-2000 \",\"2000-01 \",\"2001-02 \",\"2002-03 \",\"2003-04 \",\"2004-05 \",\"2005-06 \",\"2006-07 \",\"2007-08 \",\"2008-09 \",\"2009-10 \",\"2010-11 \",\"2011-12 \",\"2012-13 \",\"2013-14 \",\"2014-15 \",\"2015-16 \",\"2016-17 \",\"2017-18 \",\"2018-19 \",\"2019-20\",\"2020-21\"],\"value\":[10973,11401,11665,11820,12007,12483,11837,11110,11174,11554,11449,11207,10735,10631,11048,11813,12273,12839,13311,14110,14248,14603,14946,14937,15685,16170,16731,17020,17594,17952,18348,19013,19196,19422,20142,20865,21926,22664,23078,23813,24070,24961,25650,26274,26609,27152,27664,28251,28861,28838,29013,28121,29436,29033]},\"selected\":{\"id\":\"1966\"},\"selection_policy\":{\"id\":\"1980\"}},\"id\":\"1965\",\"type\":\"ColumnDataSource\"},{\"attributes\":{\"line_alpha\":0.2,\"line_color\":\"#30a2da\",\"line_width\":2,\"x\":{\"field\":\"Year\"},\"y\":{\"field\":\"value\"}},\"id\":\"1970\",\"type\":\"Line\"},{\"attributes\":{\"bottom_units\":\"screen\",\"coordinates\":null,\"fill_alpha\":0.5,\"fill_color\":\"lightgrey\",\"group\":null,\"left_units\":\"screen\",\"level\":\"overlay\",\"line_alpha\":1.0,\"line_color\":\"black\",\"line_dash\":[4,4],\"line_width\":2,\"right_units\":\"screen\",\"syncable\":false,\"top_units\":\"screen\"},\"id\":\"1951\",\"type\":\"BoxAnnotation\"},{\"attributes\":{\"axis_label\":\"School Year\",\"coordinates\":null,\"formatter\":{\"id\":\"1960\"},\"group\":null,\"major_label_orientation\":1.5707963267948966,\"major_label_policy\":{\"id\":\"1961\"},\"ticker\":{\"id\":\"1940\"}},\"id\":\"1939\",\"type\":\"CategoricalAxis\"},{\"attributes\":{\"overlay\":{\"id\":\"1951\"}},\"id\":\"1949\",\"type\":\"BoxZoomTool\"},{\"attributes\":{},\"id\":\"1950\",\"type\":\"ResetTool\"},{\"attributes\":{\"line_alpha\":0.1,\"line_color\":\"#e5ae38\",\"line_width\":2,\"x\":{\"field\":\"Year\"},\"y\":{\"field\":\"value\"}},\"id\":\"2012\",\"type\":\"Line\"},{\"attributes\":{},\"id\":\"2027\",\"type\":\"UnionRenderers\"},{\"attributes\":{\"axis\":{\"id\":\"1939\"},\"coordinates\":null,\"grid_line_color\":null,\"group\":null,\"ticker\":null},\"id\":\"1941\",\"type\":\"Grid\"},{\"attributes\":{},\"id\":\"1964\",\"type\":\"AllLabels\"},{\"attributes\":{\"label\":{\"value\":\"All Institutions\"},\"renderers\":[{\"id\":\"1971\"}]},\"id\":\"1984\",\"type\":\"LegendItem\"},{\"attributes\":{\"factors\":[\"1963-64 \",\"1968-69 \",\"1969-70 \",\"1970-71 \",\"1971-72 \",\"1972-73 \",\"1973-74 \",\"1974-75 \",\"1975-76 \",\"1976-77 \",\"1977-78 \",\"1978-79 \",\"1979-80 \",\"1980-81 \",\"1981-82 \",\"1982-83 \",\"1983-84 \",\"1984-85 \",\"1985-86\",\"1986-87 \",\"1987-88 \",\"1988-89 \",\"1989-90 \",\"1990-91 \",\"1991-92 \",\"1992-93 \",\"1993-94 \",\"1994-95 \",\"1995-96 \",\"1996-97 \",\"1997-98 \",\"1998-99 \",\"1999-2000 \",\"2000-01 \",\"2001-02 \",\"2002-03 \",\"2003-04 \",\"2004-05 \",\"2005-06 \",\"2006-07 \",\"2007-08 \",\"2008-09 \",\"2009-10 \",\"2010-11 \",\"2011-12 \",\"2012-13 \",\"2013-14 \",\"2014-15 \",\"2015-16 \",\"2016-17 \",\"2017-18 \",\"2018-19 \",\"2019-20\",\"2020-21\"],\"tags\":[[[\"Year\",\"Year\",null]]]},\"id\":\"1925\",\"type\":\"FactorRange\"},{\"attributes\":{\"coordinates\":null,\"group\":null,\"text\":\"Total Average University Expenses by Year - 2020 dollars\",\"text_color\":\"black\",\"text_font_size\":\"12pt\"},\"id\":\"1931\",\"type\":\"Title\"},{\"attributes\":{\"coordinates\":null,\"data_source\":{\"id\":\"1965\"},\"glyph\":{\"id\":\"1968\"},\"group\":null,\"hover_glyph\":null,\"muted_glyph\":{\"id\":\"1970\"},\"nonselection_glyph\":{\"id\":\"1969\"},\"selection_glyph\":{\"id\":\"1985\"},\"view\":{\"id\":\"1972\"}},\"id\":\"1971\",\"type\":\"GlyphRenderer\"},{\"attributes\":{\"click_policy\":\"mute\",\"coordinates\":null,\"group\":null,\"items\":[{\"id\":\"1984\"},{\"id\":\"2006\"},{\"id\":\"2030\"}],\"location\":[0,0],\"title\":\"Variable\"},\"id\":\"1983\",\"type\":\"Legend\"},{\"attributes\":{\"source\":{\"id\":\"1965\"}},\"id\":\"1972\",\"type\":\"CDSView\"},{\"attributes\":{},\"id\":\"1946\",\"type\":\"SaveTool\"},{\"attributes\":{\"tools\":[{\"id\":\"1927\"},{\"id\":\"1946\"},{\"id\":\"1947\"},{\"id\":\"1948\"},{\"id\":\"1949\"},{\"id\":\"1950\"}]},\"id\":\"1952\",\"type\":\"Toolbar\"},{\"attributes\":{\"label\":{\"value\":\"Public\"},\"renderers\":[{\"id\":\"2014\"}]},\"id\":\"2030\",\"type\":\"LegendItem\"}],\"root_ids\":[\"1923\"]},\"title\":\"Bokeh Application\",\"version\":\"2.4.2\"}};\n",
       "    var render_items = [{\"docid\":\"43ba6203-1564-47ef-93b6-63a098c49e09\",\"root_ids\":[\"1923\"],\"roots\":{\"1923\":\"656bf6d2-5e0b-487b-aa07-1a7e2fa1f778\"}}];\n",
       "    root.Bokeh.embed.embed_items_notebook(docs_json, render_items);\n",
       "  }\n",
       "  if (root.Bokeh !== undefined && root.Bokeh.Panel !== undefined) {\n",
       "    embed_document(root);\n",
       "  } else {\n",
       "    var attempts = 0;\n",
       "    var timer = setInterval(function(root) {\n",
       "      if (root.Bokeh !== undefined && root.Bokeh.Panel !== undefined) {\n",
       "        clearInterval(timer);\n",
       "        embed_document(root);\n",
       "      } else if (document.readyState == \"complete\") {\n",
       "        attempts++;\n",
       "        if (attempts > 200) {\n",
       "          clearInterval(timer);\n",
       "          console.log(\"Bokeh: ERROR: Unable to run BokehJS code because BokehJS library is missing\");\n",
       "        }\n",
       "      }\n",
       "    }, 25, root)\n",
       "  }\n",
       "})(window);</script>"
      ],
      "text/plain": [
       ":NdOverlay   [Variable]\n",
       "   :Curve   [Year]   (value)"
      ]
     },
     "execution_count": 79,
     "metadata": {
      "application/vnd.holoviews_exec.v0+json": {
       "id": "1923"
      }
     },
     "output_type": "execute_result"
    }
   ],
   "source": [
    "all_tuition_df.hvplot(\n",
    "    xlabel='School Year',\n",
    "    ylabel='Total Tuition/Fees/Room and Board',\n",
    "    title='Total Average University Expenses by Year - 2020 dollars',\n",
    "    rot=90\n",
    ")"
   ]
  },
  {
   "cell_type": "code",
   "execution_count": 86,
   "id": "5e8e422d-26f3-4136-b9f2-7851d6dbfe6c",
   "metadata": {},
   "outputs": [
    {
     "data": {},
     "metadata": {},
     "output_type": "display_data"
    },
    {
     "data": {
      "application/vnd.holoviews_exec.v0+json": "",
      "text/html": [
       "<div id='3751'>\n",
       "\n",
       "\n",
       "\n",
       "\n",
       "\n",
       "  <div class=\"bk-root\" id=\"9f473f52-c32e-4de0-8884-279bf489fe99\" data-root-id=\"3751\"></div>\n",
       "</div>\n",
       "<script type=\"application/javascript\">(function(root) {\n",
       "  function embed_document(root) {\n",
       "    var docs_json = {\"61428389-437a-4082-af4c-ea82fa849b1d\":{\"defs\":[{\"extends\":null,\"module\":null,\"name\":\"ReactiveHTML1\",\"overrides\":[],\"properties\":[]},{\"extends\":null,\"module\":null,\"name\":\"FlexBox1\",\"overrides\":[],\"properties\":[{\"default\":\"flex-start\",\"kind\":null,\"name\":\"align_content\"},{\"default\":\"flex-start\",\"kind\":null,\"name\":\"align_items\"},{\"default\":\"row\",\"kind\":null,\"name\":\"flex_direction\"},{\"default\":\"wrap\",\"kind\":null,\"name\":\"flex_wrap\"},{\"default\":\"flex-start\",\"kind\":null,\"name\":\"justify_content\"}]},{\"extends\":null,\"module\":null,\"name\":\"GridStack1\",\"overrides\":[],\"properties\":[{\"default\":\"warn\",\"kind\":null,\"name\":\"mode\"},{\"default\":null,\"kind\":null,\"name\":\"ncols\"},{\"default\":null,\"kind\":null,\"name\":\"nrows\"},{\"default\":true,\"kind\":null,\"name\":\"allow_resize\"},{\"default\":true,\"kind\":null,\"name\":\"allow_drag\"},{\"default\":[],\"kind\":null,\"name\":\"state\"}]},{\"extends\":null,\"module\":null,\"name\":\"click1\",\"overrides\":[],\"properties\":[{\"default\":\"\",\"kind\":null,\"name\":\"terminal_output\"},{\"default\":\"\",\"kind\":null,\"name\":\"debug_name\"},{\"default\":0,\"kind\":null,\"name\":\"clears\"}]},{\"extends\":null,\"module\":null,\"name\":\"TemplateActions1\",\"overrides\":[],\"properties\":[{\"default\":0,\"kind\":null,\"name\":\"open_modal\"},{\"default\":0,\"kind\":null,\"name\":\"close_modal\"}]},{\"extends\":null,\"module\":null,\"name\":\"MaterialTemplateActions1\",\"overrides\":[],\"properties\":[{\"default\":0,\"kind\":null,\"name\":\"open_modal\"},{\"default\":0,\"kind\":null,\"name\":\"close_modal\"}]}],\"roots\":{\"references\":[{\"attributes\":{\"data\":{\"Variable\":[\"Public\",\"Public\",\"Public\",\"Public\",\"Public\",\"Public\",\"Public\",\"Public\",\"Public\",\"Public\",\"Public\",\"Public\",\"Public\",\"Public\",\"Public\",\"Public\",\"Public\",\"Public\",\"Public\",\"Public\",\"Public\",\"Public\",\"Public\",\"Public\",\"Public\",\"Public\",\"Public\",\"Public\",\"Public\",\"Public\",\"Public\",\"Public\",\"Public\",\"Public\",\"Public\",\"Public\",\"Public\",\"Public\",\"Public\",\"Public\",\"Public\",\"Public\",\"Public\",\"Public\",\"Public\",\"Public\",\"Public\",\"Public\",\"Public\",\"Public\",\"Public\",\"Public\",\"Public\"],\"Year\":[\"1968-69 \",\"1969-70 \",\"1970-71 \",\"1971-72 \",\"1972-73 \",\"1973-74 \",\"1974-75 \",\"1975-76 \",\"1976-77 \",\"1977-78 \",\"1978-79 \",\"1979-80 \",\"1980-81 \",\"1981-82 \",\"1982-83 \",\"1983-84 \",\"1984-85 \",\"1985-86\",\"1986-87 \",\"1987-88 \",\"1988-89 \",\"1989-90 \",\"1990-91 \",\"1991-92 \",\"1992-93 \",\"1993-94 \",\"1994-95 \",\"1995-96 \",\"1996-97 \",\"1997-98 \",\"1998-99 \",\"1999-2000 \",\"2000-01 \",\"2001-02 \",\"2002-03 \",\"2003-04 \",\"2004-05 \",\"2005-06 \",\"2006-07 \",\"2007-08 \",\"2008-09 \",\"2009-10 \",\"2010-11 \",\"2011-12 \",\"2012-13 \",\"2013-14 \",\"2014-15 \",\"2015-16 \",\"2016-17 \",\"2017-18 \",\"2018-19 \",\"2019-20\",\"2020-21\"],\"value\":{\"__ndarray__\":\"0OIc9oV6sD9AH7x7VDGXPwCplMUg4ZI/gIRVVjJvlz+QOrUXiBmwP7BmMkjnAa2/6BTm4r8+sr+ASr2NLBiDPwAq2sdwIpw/APzoGvzoir/wnMBDq1Cjv2AHjusNwKW/gN7piYZukr9g6U7kQZKiP5Bt4x9qQLE/4B/Pg+RXoj/AX0ba1GGgP4CzhXq8HZM/QOU0qH8hqT/AEBemBUiWP4Dhl+FB8Y8/gLxVHdbYjj8ABHUxCJpMv8D54rf0vKo/wCa5BFX6mT/A9kFwYmqfP8AwqtPkIJM/AG/Ugs43mD8A06v70CSRPwBdhJz3fpw/wN7TOW/0nD8ACNQYp6FeP4D6n7dD7oY/oAdx2kOtpj8gsIBp7y+lP1CZ10fBNrE/oM8VZxMMpD/ACeHUKVmVP8AmAToHJZ8/ADpuwLoUiD+AzA6v5WOmP0DtZamZeqg/oC5wXFRooz8ALi28ZhOZP8A1LsT1eZg/gC2Fz6RZlD8Ax7Y5unqWP4AQ9sqCXpg/AEkLgQX4bL8AU+JuaQB5PwCIzZ9plXo/ABzqFZjGdj+AVX+jZWqBvw==\",\"dtype\":\"float64\",\"order\":\"little\",\"shape\":[53]}},\"selected\":{\"id\":\"3837\"},\"selection_policy\":{\"id\":\"3855\"}},\"id\":\"3836\",\"type\":\"ColumnDataSource\"},{\"attributes\":{\"line_alpha\":0.2,\"line_color\":\"#30a2da\",\"line_width\":2,\"x\":{\"field\":\"Year\"},\"y\":{\"field\":\"value\"}},\"id\":\"3798\",\"type\":\"Line\"},{\"attributes\":{},\"id\":\"3831\",\"type\":\"UnionRenderers\"},{\"attributes\":{\"click_policy\":\"mute\",\"coordinates\":null,\"group\":null,\"items\":[{\"id\":\"3812\"},{\"id\":\"3834\"},{\"id\":\"3858\"}],\"location\":[0,0],\"title\":\"Variable\"},\"id\":\"3811\",\"type\":\"Legend\"},{\"attributes\":{\"end\":0.14547296027289106,\"reset_end\":0.14547296027289106,\"reset_start\":-0.09097388610263804,\"start\":-0.09097388610263804,\"tags\":[[[\"value\",\"value\",null]]]},\"id\":\"3754\",\"type\":\"Range1d\"},{\"attributes\":{},\"id\":\"3791\",\"type\":\"BasicTickFormatter\"},{\"attributes\":{\"axis\":{\"id\":\"3767\"},\"coordinates\":null,\"grid_line_color\":null,\"group\":null,\"ticker\":null},\"id\":\"3769\",\"type\":\"Grid\"},{\"attributes\":{},\"id\":\"3774\",\"type\":\"SaveTool\"},{\"attributes\":{\"source\":{\"id\":\"3836\"}},\"id\":\"3843\",\"type\":\"CDSView\"},{\"attributes\":{\"callback\":null,\"renderers\":[{\"id\":\"3799\"},{\"id\":\"3820\"},{\"id\":\"3842\"}],\"tags\":[\"hv_created\"],\"tooltips\":[[\"Variable\",\"@{Variable}\"],[\"Year\",\"@{Year}\"],[\"value\",\"@{value}\"]]},\"id\":\"3755\",\"type\":\"HoverTool\"},{\"attributes\":{},\"id\":\"3775\",\"type\":\"PanTool\"},{\"attributes\":{\"label\":{\"value\":\"Public\"},\"renderers\":[{\"id\":\"3842\"}]},\"id\":\"3858\",\"type\":\"LegendItem\"},{\"attributes\":{\"margin\":[5,5,5,5],\"name\":\"HSpacer07763\",\"sizing_mode\":\"stretch_width\"},\"id\":\"3752\",\"type\":\"Spacer\"},{\"attributes\":{},\"id\":\"3778\",\"type\":\"ResetTool\"},{\"attributes\":{},\"id\":\"3776\",\"type\":\"WheelZoomTool\"},{\"attributes\":{\"factors\":[\"1968-69 \",\"1969-70 \",\"1970-71 \",\"1971-72 \",\"1972-73 \",\"1973-74 \",\"1974-75 \",\"1975-76 \",\"1976-77 \",\"1977-78 \",\"1978-79 \",\"1979-80 \",\"1980-81 \",\"1981-82 \",\"1982-83 \",\"1983-84 \",\"1984-85 \",\"1985-86\",\"1986-87 \",\"1987-88 \",\"1988-89 \",\"1989-90 \",\"1990-91 \",\"1991-92 \",\"1992-93 \",\"1993-94 \",\"1994-95 \",\"1995-96 \",\"1996-97 \",\"1997-98 \",\"1998-99 \",\"1999-2000 \",\"2000-01 \",\"2001-02 \",\"2002-03 \",\"2003-04 \",\"2004-05 \",\"2005-06 \",\"2006-07 \",\"2007-08 \",\"2008-09 \",\"2009-10 \",\"2010-11 \",\"2011-12 \",\"2012-13 \",\"2013-14 \",\"2014-15 \",\"2015-16 \",\"2016-17 \",\"2017-18 \",\"2018-19 \",\"2019-20\",\"2020-21\"],\"tags\":[[[\"Year\",\"Year\",null]]]},\"id\":\"3753\",\"type\":\"FactorRange\"},{\"attributes\":{\"line_color\":\"#30a2da\",\"line_width\":2,\"x\":{\"field\":\"Year\"},\"y\":{\"field\":\"value\"}},\"id\":\"3813\",\"type\":\"Line\"},{\"attributes\":{\"line_alpha\":0.1,\"line_color\":\"#fc4f30\",\"line_width\":2,\"x\":{\"field\":\"Year\"},\"y\":{\"field\":\"value\"}},\"id\":\"3818\",\"type\":\"Line\"},{\"attributes\":{},\"id\":\"3855\",\"type\":\"UnionRenderers\"},{\"attributes\":{\"margin\":[5,5,5,5],\"name\":\"HSpacer07764\",\"sizing_mode\":\"stretch_width\"},\"id\":\"3986\",\"type\":\"Spacer\"},{\"attributes\":{\"overlay\":{\"id\":\"3779\"}},\"id\":\"3777\",\"type\":\"BoxZoomTool\"},{\"attributes\":{},\"id\":\"3792\",\"type\":\"AllLabels\"},{\"attributes\":{},\"id\":\"3794\",\"type\":\"Selection\"},{\"attributes\":{\"line_color\":\"#fc4f30\",\"line_width\":2,\"x\":{\"field\":\"Year\"},\"y\":{\"field\":\"value\"}},\"id\":\"3817\",\"type\":\"Line\"},{\"attributes\":{},\"id\":\"3763\",\"type\":\"CategoricalScale\"},{\"attributes\":{\"children\":[{\"id\":\"3752\"},{\"id\":\"3758\"},{\"id\":\"3986\"}],\"margin\":[0,0,0,0],\"name\":\"Row07759\",\"tags\":[\"embedded\"]},\"id\":\"3751\",\"type\":\"Row\"},{\"attributes\":{\"coordinates\":null,\"group\":null,\"text\":\"Total Average University Expenses Percent Change, 1964-2021\",\"text_color\":\"black\",\"text_font_size\":\"12pt\"},\"id\":\"3759\",\"type\":\"Title\"},{\"attributes\":{},\"id\":\"3789\",\"type\":\"AllLabels\"},{\"attributes\":{\"label\":{\"value\":\"All Institutions\"},\"renderers\":[{\"id\":\"3799\"}]},\"id\":\"3812\",\"type\":\"LegendItem\"},{\"attributes\":{\"tools\":[{\"id\":\"3755\"},{\"id\":\"3774\"},{\"id\":\"3775\"},{\"id\":\"3776\"},{\"id\":\"3777\"},{\"id\":\"3778\"}]},\"id\":\"3780\",\"type\":\"Toolbar\"},{\"attributes\":{\"axis_label\":\"School Year\",\"coordinates\":null,\"formatter\":{\"id\":\"3788\"},\"group\":null,\"major_label_orientation\":1.5707963267948966,\"major_label_policy\":{\"id\":\"3789\"},\"ticker\":{\"id\":\"3768\"}},\"id\":\"3767\",\"type\":\"CategoricalAxis\"},{\"attributes\":{\"data\":{\"Variable\":[\"All Institutions\",\"All Institutions\",\"All Institutions\",\"All Institutions\",\"All Institutions\",\"All Institutions\",\"All Institutions\",\"All Institutions\",\"All Institutions\",\"All Institutions\",\"All Institutions\",\"All Institutions\",\"All Institutions\",\"All Institutions\",\"All Institutions\",\"All Institutions\",\"All Institutions\",\"All Institutions\",\"All Institutions\",\"All Institutions\",\"All Institutions\",\"All Institutions\",\"All Institutions\",\"All Institutions\",\"All Institutions\",\"All Institutions\",\"All Institutions\",\"All Institutions\",\"All Institutions\",\"All Institutions\",\"All Institutions\",\"All Institutions\",\"All Institutions\",\"All Institutions\",\"All Institutions\",\"All Institutions\",\"All Institutions\",\"All Institutions\",\"All Institutions\",\"All Institutions\",\"All Institutions\",\"All Institutions\",\"All Institutions\",\"All Institutions\",\"All Institutions\",\"All Institutions\",\"All Institutions\",\"All Institutions\",\"All Institutions\",\"All Institutions\",\"All Institutions\",\"All Institutions\",\"All Institutions\"],\"Year\":[\"1968-69 \",\"1969-70 \",\"1970-71 \",\"1971-72 \",\"1972-73 \",\"1973-74 \",\"1974-75 \",\"1975-76 \",\"1976-77 \",\"1977-78 \",\"1978-79 \",\"1979-80 \",\"1980-81 \",\"1981-82 \",\"1982-83 \",\"1983-84 \",\"1984-85 \",\"1985-86\",\"1986-87 \",\"1987-88 \",\"1988-89 \",\"1989-90 \",\"1990-91 \",\"1991-92 \",\"1992-93 \",\"1993-94 \",\"1994-95 \",\"1995-96 \",\"1996-97 \",\"1997-98 \",\"1998-99 \",\"1999-2000 \",\"2000-01 \",\"2001-02 \",\"2002-03 \",\"2003-04 \",\"2004-05 \",\"2005-06 \",\"2006-07 \",\"2007-08 \",\"2008-09 \",\"2009-10 \",\"2010-11 \",\"2011-12 \",\"2012-13 \",\"2013-14 \",\"2014-15 \",\"2015-16 \",\"2016-17 \",\"2017-18 \",\"2018-19 \",\"2019-20\",\"2020-21\"],\"value\":{\"__ndarray__\":\"gATL6nD4oz8AAiGyK7aXP4BwlimJNos/gNTEYEkzkD/g33uCKEykP/CnwZ8Gf6q/sHWWTyByr78AaWDcZph3PyDWiu5uaaE/gGhIvpqcgr9AZNOi/qSVv0CO9GJMkKW/QKrR2ETXg7/AMZCESRWkPyA+XdXtubE/oDZbo/bvoz+gzU1OtpynP0BlXSyZ0qI/wIFd/qq7rj8AF81UsQeEP8A8soiFg5k/ALcdw1INmD8AvDyDWbtDvyCE4PSwo6k/gKI4ytKpnz+g9+daZcOhP0BESDcZsJE/AKV2NGhEoT/A2P3RENaUP4CWlpaWlpY/oOO22YmOoj+ASeW/RLaDP4DZK7aXHIg/QEUEggT7oj/APDQv2WCiPwBgcpYaCao/wGlfjrU7oT/A0f/hi7SSP6BJ2MlyTqA/gCqDq1Yahj9g99uJ5fOiP4BwMA36Q5w/APVn6E3pmD+Awos8zRyKP8BRerZ55ZQ/wNiD1jJPkz/AW9UfabqVP8Bn/g9BHJY/ANRegRMdSr8A0mXjKNt4PyBC3i+Te5+/YLF3RDfxpz9A/6wt4QmMvw==\",\"dtype\":\"float64\",\"order\":\"little\",\"shape\":[53]}},\"selected\":{\"id\":\"3794\"},\"selection_policy\":{\"id\":\"3808\"}},\"id\":\"3793\",\"type\":\"ColumnDataSource\"},{\"attributes\":{},\"id\":\"3815\",\"type\":\"Selection\"},{\"attributes\":{\"line_alpha\":0.2,\"line_color\":\"#fc4f30\",\"line_width\":2,\"x\":{\"field\":\"Year\"},\"y\":{\"field\":\"value\"}},\"id\":\"3819\",\"type\":\"Line\"},{\"attributes\":{\"coordinates\":null,\"data_source\":{\"id\":\"3814\"},\"glyph\":{\"id\":\"3817\"},\"group\":null,\"hover_glyph\":null,\"muted_glyph\":{\"id\":\"3819\"},\"nonselection_glyph\":{\"id\":\"3818\"},\"selection_glyph\":{\"id\":\"3835\"},\"view\":{\"id\":\"3821\"}},\"id\":\"3820\",\"type\":\"GlyphRenderer\"},{\"attributes\":{\"data\":{\"Variable\":[\"Private\",\"Private\",\"Private\",\"Private\",\"Private\",\"Private\",\"Private\",\"Private\",\"Private\",\"Private\",\"Private\",\"Private\",\"Private\",\"Private\",\"Private\",\"Private\",\"Private\",\"Private\",\"Private\",\"Private\",\"Private\",\"Private\",\"Private\",\"Private\",\"Private\",\"Private\",\"Private\",\"Private\",\"Private\",\"Private\",\"Private\",\"Private\",\"Private\",\"Private\",\"Private\",\"Private\",\"Private\",\"Private\",\"Private\",\"Private\",\"Private\",\"Private\",\"Private\",\"Private\",\"Private\",\"Private\",\"Private\",\"Private\",\"Private\",\"Private\",\"Private\",\"Private\",\"Private\"],\"Year\":[\"1968-69 \",\"1969-70 \",\"1970-71 \",\"1971-72 \",\"1972-73 \",\"1973-74 \",\"1974-75 \",\"1975-76 \",\"1976-77 \",\"1977-78 \",\"1978-79 \",\"1979-80 \",\"1980-81 \",\"1981-82 \",\"1982-83 \",\"1983-84 \",\"1984-85 \",\"1985-86\",\"1986-87 \",\"1987-88 \",\"1988-89 \",\"1989-90 \",\"1990-91 \",\"1991-92 \",\"1992-93 \",\"1993-94 \",\"1994-95 \",\"1995-96 \",\"1996-97 \",\"1997-98 \",\"1998-99 \",\"1999-2000 \",\"2000-01 \",\"2001-02 \",\"2002-03 \",\"2003-04 \",\"2004-05 \",\"2005-06 \",\"2006-07 \",\"2007-08 \",\"2008-09 \",\"2009-10 \",\"2010-11 \",\"2011-12 \",\"2012-13 \",\"2013-14 \",\"2014-15 \",\"2015-16 \",\"2016-17 \",\"2017-18 \",\"2018-19 \",\"2019-20\",\"2020-21\"],\"value\":{\"__ndarray__\":\"mKYPUDMZwD9AtQGUkgmaP0AjwXgoPpg/QIforstmlz9AuVMJZ5mSP7BPbEgAEaa/0Aqg08kAqb8Au0PyCYZ6PwDi4eHh4Zg/AOBtbTZnTb8AsMU17pl4v1BSs8kgu6S/AAB4rFfbDj9gVVVVVVWlP4AJfKDaVbQ/gA2Iu4qXqT8gzeXIdZqoP6AaOtw5cK8/4GT+CDR2sD9ASIyPNvaTP8CoiKMepZ0/QN7ySTFRlj9AaOQ7Tj6WP+BerpFqXKY/QHlw245ZlT8gfRTWOcugP4DXpNevVo4/IJy4VXPDoD9AS+fqR4mSPwB/MqqkS5A/gBJOzf/rmz+AxInK00KHP8C7YbtfgZM/AMYpvTcNnj/AJgD/bP2QP8BqwTaoDqA/QJ2DCvBFkT8AkH/FzdBlP8CYwHc0EKA/gONbZagKgD+ABKaxuIqTPwC92AbARYQ/AMik+/VaTz8AY0hcCEt5P4D/ZIQs9Jg/wPNIjlUvnD/AB8V+9SafP+C1vWwHQ6E/gGbvClOhnj+AN39a2KuRPwAWNOu7Co4/AGVHiBIQiT8AqETMmCmNvw==\",\"dtype\":\"float64\",\"order\":\"little\",\"shape\":[53]}},\"selected\":{\"id\":\"3815\"},\"selection_policy\":{\"id\":\"3831\"}},\"id\":\"3814\",\"type\":\"ColumnDataSource\"},{\"attributes\":{\"line_alpha\":0.1,\"line_color\":\"#e5ae38\",\"line_width\":2,\"x\":{\"field\":\"Year\"},\"y\":{\"field\":\"value\"}},\"id\":\"3840\",\"type\":\"Line\"},{\"attributes\":{},\"id\":\"3765\",\"type\":\"LinearScale\"},{\"attributes\":{\"source\":{\"id\":\"3793\"}},\"id\":\"3800\",\"type\":\"CDSView\"},{\"attributes\":{\"line_color\":\"#e5ae38\",\"line_width\":2,\"x\":{\"field\":\"Year\"},\"y\":{\"field\":\"value\"}},\"id\":\"3859\",\"type\":\"Line\"},{\"attributes\":{\"bottom_units\":\"screen\",\"coordinates\":null,\"fill_alpha\":0.5,\"fill_color\":\"lightgrey\",\"group\":null,\"left_units\":\"screen\",\"level\":\"overlay\",\"line_alpha\":1.0,\"line_color\":\"black\",\"line_dash\":[4,4],\"line_width\":2,\"right_units\":\"screen\",\"syncable\":false,\"top_units\":\"screen\"},\"id\":\"3779\",\"type\":\"BoxAnnotation\"},{\"attributes\":{\"line_color\":\"#e5ae38\",\"line_width\":2,\"x\":{\"field\":\"Year\"},\"y\":{\"field\":\"value\"}},\"id\":\"3839\",\"type\":\"Line\"},{\"attributes\":{},\"id\":\"3788\",\"type\":\"CategoricalTickFormatter\"},{\"attributes\":{\"source\":{\"id\":\"3814\"}},\"id\":\"3821\",\"type\":\"CDSView\"},{\"attributes\":{},\"id\":\"3771\",\"type\":\"BasicTicker\"},{\"attributes\":{},\"id\":\"3768\",\"type\":\"CategoricalTicker\"},{\"attributes\":{},\"id\":\"3808\",\"type\":\"UnionRenderers\"},{\"attributes\":{\"line_color\":\"#fc4f30\",\"line_width\":2,\"x\":{\"field\":\"Year\"},\"y\":{\"field\":\"value\"}},\"id\":\"3835\",\"type\":\"Line\"},{\"attributes\":{\"axis_label\":\"Percent Change\",\"coordinates\":null,\"formatter\":{\"id\":\"3791\"},\"group\":null,\"major_label_policy\":{\"id\":\"3792\"},\"ticker\":{\"id\":\"3771\"}},\"id\":\"3770\",\"type\":\"LinearAxis\"},{\"attributes\":{\"line_color\":\"#30a2da\",\"line_width\":2,\"x\":{\"field\":\"Year\"},\"y\":{\"field\":\"value\"}},\"id\":\"3796\",\"type\":\"Line\"},{\"attributes\":{\"line_alpha\":0.1,\"line_color\":\"#30a2da\",\"line_width\":2,\"x\":{\"field\":\"Year\"},\"y\":{\"field\":\"value\"}},\"id\":\"3797\",\"type\":\"Line\"},{\"attributes\":{\"coordinates\":null,\"data_source\":{\"id\":\"3793\"},\"glyph\":{\"id\":\"3796\"},\"group\":null,\"hover_glyph\":null,\"muted_glyph\":{\"id\":\"3798\"},\"nonselection_glyph\":{\"id\":\"3797\"},\"selection_glyph\":{\"id\":\"3813\"},\"view\":{\"id\":\"3800\"}},\"id\":\"3799\",\"type\":\"GlyphRenderer\"},{\"attributes\":{\"axis\":{\"id\":\"3770\"},\"coordinates\":null,\"dimension\":1,\"grid_line_color\":null,\"group\":null,\"ticker\":null},\"id\":\"3773\",\"type\":\"Grid\"},{\"attributes\":{\"line_alpha\":0.2,\"line_color\":\"#e5ae38\",\"line_width\":2,\"x\":{\"field\":\"Year\"},\"y\":{\"field\":\"value\"}},\"id\":\"3841\",\"type\":\"Line\"},{\"attributes\":{\"label\":{\"value\":\"Private\"},\"renderers\":[{\"id\":\"3820\"}]},\"id\":\"3834\",\"type\":\"LegendItem\"},{\"attributes\":{\"coordinates\":null,\"data_source\":{\"id\":\"3836\"},\"glyph\":{\"id\":\"3839\"},\"group\":null,\"hover_glyph\":null,\"muted_glyph\":{\"id\":\"3841\"},\"nonselection_glyph\":{\"id\":\"3840\"},\"selection_glyph\":{\"id\":\"3859\"},\"view\":{\"id\":\"3843\"}},\"id\":\"3842\",\"type\":\"GlyphRenderer\"},{\"attributes\":{},\"id\":\"3837\",\"type\":\"Selection\"},{\"attributes\":{\"below\":[{\"id\":\"3767\"}],\"center\":[{\"id\":\"3769\"},{\"id\":\"3773\"}],\"height\":300,\"left\":[{\"id\":\"3770\"}],\"margin\":[5,5,5,5],\"min_border_bottom\":10,\"min_border_left\":10,\"min_border_right\":10,\"min_border_top\":10,\"renderers\":[{\"id\":\"3799\"},{\"id\":\"3820\"},{\"id\":\"3842\"}],\"right\":[{\"id\":\"3811\"}],\"sizing_mode\":\"fixed\",\"title\":{\"id\":\"3759\"},\"toolbar\":{\"id\":\"3780\"},\"width\":700,\"x_range\":{\"id\":\"3753\"},\"x_scale\":{\"id\":\"3763\"},\"y_range\":{\"id\":\"3754\"},\"y_scale\":{\"id\":\"3765\"}},\"id\":\"3758\",\"subtype\":\"Figure\",\"type\":\"Plot\"}],\"root_ids\":[\"3751\"]},\"title\":\"Bokeh Application\",\"version\":\"2.4.2\"}};\n",
       "    var render_items = [{\"docid\":\"61428389-437a-4082-af4c-ea82fa849b1d\",\"root_ids\":[\"3751\"],\"roots\":{\"3751\":\"9f473f52-c32e-4de0-8884-279bf489fe99\"}}];\n",
       "    root.Bokeh.embed.embed_items_notebook(docs_json, render_items);\n",
       "  }\n",
       "  if (root.Bokeh !== undefined && root.Bokeh.Panel !== undefined) {\n",
       "    embed_document(root);\n",
       "  } else {\n",
       "    var attempts = 0;\n",
       "    var timer = setInterval(function(root) {\n",
       "      if (root.Bokeh !== undefined && root.Bokeh.Panel !== undefined) {\n",
       "        clearInterval(timer);\n",
       "        embed_document(root);\n",
       "      } else if (document.readyState == \"complete\") {\n",
       "        attempts++;\n",
       "        if (attempts > 200) {\n",
       "          clearInterval(timer);\n",
       "          console.log(\"Bokeh: ERROR: Unable to run BokehJS code because BokehJS library is missing\");\n",
       "        }\n",
       "      }\n",
       "    }, 25, root)\n",
       "  }\n",
       "})(window);</script>"
      ],
      "text/plain": [
       ":NdOverlay   [Variable]\n",
       "   :Curve   [Year]   (value)"
      ]
     },
     "execution_count": 86,
     "metadata": {
      "application/vnd.holoviews_exec.v0+json": {
       "id": "3751"
      }
     },
     "output_type": "execute_result"
    }
   ],
   "source": [
    "tuition_pct_change.hvplot(\n",
    "    xlabel='School Year',\n",
    "    ylabel='Percent Change',\n",
    "    title='Total Average University Expenses Percent Change, 1964-2021',\n",
    "    rot=90,\n",
    ")"
   ]
  },
  {
   "cell_type": "code",
   "execution_count": 87,
   "id": "b43a8932-c61d-4620-b540-bd393d1d902e",
   "metadata": {},
   "outputs": [
    {
     "data": {
      "text/html": [
       "<div>\n",
       "<style scoped>\n",
       "    .dataframe tbody tr th:only-of-type {\n",
       "        vertical-align: middle;\n",
       "    }\n",
       "\n",
       "    .dataframe tbody tr th {\n",
       "        vertical-align: top;\n",
       "    }\n",
       "\n",
       "    .dataframe thead th {\n",
       "        text-align: right;\n",
       "    }\n",
       "</style>\n",
       "<table border=\"1\" class=\"dataframe\">\n",
       "  <thead>\n",
       "    <tr style=\"text-align: right;\">\n",
       "      <th></th>\n",
       "      <th>All Institutions</th>\n",
       "      <th>Private</th>\n",
       "      <th>Public</th>\n",
       "    </tr>\n",
       "  </thead>\n",
       "  <tbody>\n",
       "    <tr>\n",
       "      <th>count</th>\n",
       "      <td>53.000000</td>\n",
       "      <td>53.000000</td>\n",
       "      <td>53.000000</td>\n",
       "    </tr>\n",
       "    <tr>\n",
       "      <th>mean</th>\n",
       "      <td>0.018866</td>\n",
       "      <td>0.021298</td>\n",
       "      <td>0.019259</td>\n",
       "    </tr>\n",
       "    <tr>\n",
       "      <th>std</th>\n",
       "      <td>0.026222</td>\n",
       "      <td>0.027375</td>\n",
       "      <td>0.028221</td>\n",
       "    </tr>\n",
       "    <tr>\n",
       "      <th>min</th>\n",
       "      <td>-0.061418</td>\n",
       "      <td>-0.048834</td>\n",
       "      <td>-0.071270</td>\n",
       "    </tr>\n",
       "    <tr>\n",
       "      <th>25%</th>\n",
       "      <td>0.009780</td>\n",
       "      <td>0.011358</td>\n",
       "      <td>0.009323</td>\n",
       "    </tr>\n",
       "    <tr>\n",
       "      <th>50%</th>\n",
       "      <td>0.022059</td>\n",
       "      <td>0.020849</td>\n",
       "      <td>0.022649</td>\n",
       "    </tr>\n",
       "    <tr>\n",
       "      <th>75%</th>\n",
       "      <td>0.036244</td>\n",
       "      <td>0.030422</td>\n",
       "      <td>0.035827</td>\n",
       "    </tr>\n",
       "    <tr>\n",
       "      <th>max</th>\n",
       "      <td>0.069243</td>\n",
       "      <td>0.125769</td>\n",
       "      <td>0.067389</td>\n",
       "    </tr>\n",
       "  </tbody>\n",
       "</table>\n",
       "</div>"
      ],
      "text/plain": [
       "       All Institutions    Private     Public\n",
       "count         53.000000  53.000000  53.000000\n",
       "mean           0.018866   0.021298   0.019259\n",
       "std            0.026222   0.027375   0.028221\n",
       "min           -0.061418  -0.048834  -0.071270\n",
       "25%            0.009780   0.011358   0.009323\n",
       "50%            0.022059   0.020849   0.022649\n",
       "75%            0.036244   0.030422   0.035827\n",
       "max            0.069243   0.125769   0.067389"
      ]
     },
     "execution_count": 87,
     "metadata": {},
     "output_type": "execute_result"
    }
   ],
   "source": [
    "tuition_pct_change.describe()"
   ]
  },
  {
   "cell_type": "code",
   "execution_count": null,
   "id": "199af538-1420-4236-aa97-830a09fed750",
   "metadata": {},
   "outputs": [],
   "source": []
  }
 ],
 "metadata": {
  "kernelspec": {
   "display_name": "Python 3 (ipykernel)",
   "language": "python",
   "name": "python3"
  },
  "language_info": {
   "codemirror_mode": {
    "name": "ipython",
    "version": 3
   },
   "file_extension": ".py",
   "mimetype": "text/x-python",
   "name": "python",
   "nbconvert_exporter": "python",
   "pygments_lexer": "ipython3",
   "version": "3.7.13"
  }
 },
 "nbformat": 4,
 "nbformat_minor": 5
}
